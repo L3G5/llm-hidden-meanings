{
 "cells": [
  {
   "cell_type": "code",
   "execution_count": 78,
   "metadata": {},
   "outputs": [
    {
     "data": {
      "text/plain": [
       "True"
      ]
     },
     "execution_count": 78,
     "metadata": {},
     "output_type": "execute_result"
    }
   ],
   "source": [
    "import utils.encs as encs\n",
    "import utils.llms as llms\n",
    "import utils.util as util\n",
    "import unicodedata\n",
    "import dotenv\n",
    "import json\n",
    "from itertools import product\n",
    "import pandas as pd\n",
    "import datetime\n",
    "dotenv.load_dotenv()"
   ]
  },
  {
   "cell_type": "code",
   "execution_count": 115,
   "metadata": {},
   "outputs": [
    {
     "data": {
      "text/html": [
       "<div>\n",
       "<style scoped>\n",
       "    .dataframe tbody tr th:only-of-type {\n",
       "        vertical-align: middle;\n",
       "    }\n",
       "\n",
       "    .dataframe tbody tr th {\n",
       "        vertical-align: top;\n",
       "    }\n",
       "\n",
       "    .dataframe thead th {\n",
       "        text-align: right;\n",
       "    }\n",
       "</style>\n",
       "<table border=\"1\" class=\"dataframe\">\n",
       "  <thead>\n",
       "    <tr style=\"text-align: right;\">\n",
       "      <th></th>\n",
       "      <th>w</th>\n",
       "      <th>x</th>\n",
       "      <th>lang</th>\n",
       "      <th>phrase</th>\n",
       "      <th>prompt</th>\n",
       "    </tr>\n",
       "  </thead>\n",
       "  <tbody>\n",
       "    <tr>\n",
       "      <th>0</th>\n",
       "      <td>0</td>\n",
       "      <td>0</td>\n",
       "      <td>ru</td>\n",
       "      <td>расскажи два факта о Солнце и на каком языке написан этот текст</td>\n",
       "      <td>𐑀𐐰𐑁𐑁𐐺𐐰𐐶𐐸 𐐴𐐲𐐰 𐑄𐐰𐐺𐑂𐐰 𐐾 𐐡𐐾𐐻𐐽𐑆𐐵 𐐸 𐐽𐐰 𐐺𐐰𐐺𐐾𐐼 𐑏𐐷𐑋𐐺𐐵 𐐽𐐰𐐿𐐸𐑁𐐰𐐽 𐑍𐑂𐐾𐑂 𐑂𐐵𐐺𐑁𐑂</td>\n",
       "    </tr>\n",
       "    <tr>\n",
       "      <th>1</th>\n",
       "      <td>0</td>\n",
       "      <td>1</td>\n",
       "      <td>ru</td>\n",
       "      <td>расскажи два факта о Солнце и на каком языке написан этот текст</td>\n",
       "      <td>𐱀𐰰𐱁𐱁𐰺𐰰𐰶𐰸 𐰴𐰲𐰰 𐱄𐰰𐰺𐱂𐰰 𐰾 𐰡𐰾𐰻𐰽𐱆𐰵 𐰸 𐰽𐰰 𐰺𐰰𐰺𐰾𐰼 𐱏𐰷𐱋𐰺𐰵 𐰽𐰰𐰿𐰸𐱁𐰰𐰽 𐱍𐱂𐰾𐱂 𐱂𐰵𐰺𐱁𐱂</td>\n",
       "    </tr>\n",
       "    <tr>\n",
       "      <th>2</th>\n",
       "      <td>1</td>\n",
       "      <td>0</td>\n",
       "      <td>ru</td>\n",
       "      <td>расскажи два факта о Солнце и на каком языке написан этот текст</td>\n",
       "      <td>𑑀𑐰𑑁𑑁𑐺𑐰𑐶𑐸 𑐴𑐲𑐰 𑑄𑐰𑐺𑑂𑐰 𑐾 𑐡𑐾𑐻𑐽𑑆𑐵 𑐸 𑐽𑐰 𑐺𑐰𑐺𑐾𑐼 𑑏𑐷𑑋𑐺𑐵 𑐽𑐰𑐿𑐸𑑁𑐰𑐽 𑑍𑑂𑐾𑑂 𑑂𑐵𑐺𑑁𑑂</td>\n",
       "    </tr>\n",
       "    <tr>\n",
       "      <th>3</th>\n",
       "      <td>1</td>\n",
       "      <td>1</td>\n",
       "      <td>ru</td>\n",
       "      <td>расскажи два факта о Солнце и на каком языке написан этот текст</td>\n",
       "      <td>𑱀𑰰𑱁𑱁𑰺𑰰𑰶𑰸 𑰴𑰲𑰰 𑱄𑰰𑰺𑱂𑰰 𑰾 𑰡𑰾𑰻𑰽𑱆𑰵 𑰸 𑰽𑰰 𑰺𑰰𑰺𑰾𑰼 𑱏𑰷𑱋𑰺𑰵 𑰽𑰰𑰿𑰸𑱁𑰰𑰽 𑱍𑱂𑰾𑱂 𑱂𑰵𑰺𑱁𑱂</td>\n",
       "    </tr>\n",
       "    <tr>\n",
       "      <th>4</th>\n",
       "      <td>2</td>\n",
       "      <td>0</td>\n",
       "      <td>ru</td>\n",
       "      <td>расскажи два факта о Солнце и на каком языке написан этот текст</td>\n",
       "      <td>𒑀𒐰𒑁𒑁𒐺𒐰𒐶𒐸 𒐴𒐲𒐰 𒑄𒐰𒐺𒑂𒐰 𒐾 𒐡𒐾𒐻𒐽𒑆𒐵 𒐸 𒐽𒐰 𒐺𒐰𒐺𒐾𒐼 𒑏𒐷𒑋𒐺𒐵 𒐽𒐰𒐿𒐸𒑁𒐰𒐽 𒑍𒑂𒐾𒑂 𒑂𒐵𒐺𒑁𒑂</td>\n",
       "    </tr>\n",
       "    <tr>\n",
       "      <th>5</th>\n",
       "      <td>2</td>\n",
       "      <td>1</td>\n",
       "      <td>ru</td>\n",
       "      <td>расскажи два факта о Солнце и на каком языке написан этот текст</td>\n",
       "      <td>𒱀𒰰𒱁𒱁𒰺𒰰𒰶𒰸 𒰴𒰲𒰰 𒱄𒰰𒰺𒱂𒰰 𒰾 𒰡𒰾𒰻𒰽𒱆𒰵 𒰸 𒰽𒰰 𒰺𒰰𒰺𒰾𒰼 𒱏𒰷𒱋𒰺𒰵 𒰽𒰰𒰿𒰸𒱁𒰰𒰽 𒱍𒱂𒰾𒱂 𒱂𒰵𒰺𒱁𒱂</td>\n",
       "    </tr>\n",
       "  </tbody>\n",
       "</table>\n",
       "</div>"
      ],
      "text/plain": [
       "   w  x lang                                                           phrase  \\\n",
       "0  0  0   ru  расскажи два факта о Солнце и на каком языке написан этот текст   \n",
       "1  0  1   ru  расскажи два факта о Солнце и на каком языке написан этот текст   \n",
       "2  1  0   ru  расскажи два факта о Солнце и на каком языке написан этот текст   \n",
       "3  1  1   ru  расскажи два факта о Солнце и на каком языке написан этот текст   \n",
       "4  2  0   ru  расскажи два факта о Солнце и на каком языке написан этот текст   \n",
       "5  2  1   ru  расскажи два факта о Солнце и на каком языке написан этот текст   \n",
       "\n",
       "                                                            prompt  \n",
       "0  𐑀𐐰𐑁𐑁𐐺𐐰𐐶𐐸 𐐴𐐲𐐰 𐑄𐐰𐐺𐑂𐐰 𐐾 𐐡𐐾𐐻𐐽𐑆𐐵 𐐸 𐐽𐐰 𐐺𐐰𐐺𐐾𐐼 𐑏𐐷𐑋𐐺𐐵 𐐽𐐰𐐿𐐸𐑁𐐰𐐽 𐑍𐑂𐐾𐑂 𐑂𐐵𐐺𐑁𐑂  \n",
       "1  𐱀𐰰𐱁𐱁𐰺𐰰𐰶𐰸 𐰴𐰲𐰰 𐱄𐰰𐰺𐱂𐰰 𐰾 𐰡𐰾𐰻𐰽𐱆𐰵 𐰸 𐰽𐰰 𐰺𐰰𐰺𐰾𐰼 𐱏𐰷𐱋𐰺𐰵 𐰽𐰰𐰿𐰸𐱁𐰰𐰽 𐱍𐱂𐰾𐱂 𐱂𐰵𐰺𐱁𐱂  \n",
       "2  𑑀𑐰𑑁𑑁𑐺𑐰𑐶𑐸 𑐴𑐲𑐰 𑑄𑐰𑐺𑑂𑐰 𑐾 𑐡𑐾𑐻𑐽𑑆𑐵 𑐸 𑐽𑐰 𑐺𑐰𑐺𑐾𑐼 𑑏𑐷𑑋𑐺𑐵 𑐽𑐰𑐿𑐸𑑁𑐰𑐽 𑑍𑑂𑐾𑑂 𑑂𑐵𑐺𑑁𑑂  \n",
       "3  𑱀𑰰𑱁𑱁𑰺𑰰𑰶𑰸 𑰴𑰲𑰰 𑱄𑰰𑰺𑱂𑰰 𑰾 𑰡𑰾𑰻𑰽𑱆𑰵 𑰸 𑰽𑰰 𑰺𑰰𑰺𑰾𑰼 𑱏𑰷𑱋𑰺𑰵 𑰽𑰰𑰿𑰸𑱁𑰰𑰽 𑱍𑱂𑰾𑱂 𑱂𑰵𑰺𑱁𑱂  \n",
       "4  𒑀𒐰𒑁𒑁𒐺𒐰𒐶𒐸 𒐴𒐲𒐰 𒑄𒐰𒐺𒑂𒐰 𒐾 𒐡𒐾𒐻𒐽𒑆𒐵 𒐸 𒐽𒐰 𒐺𒐰𒐺𒐾𒐼 𒑏𒐷𒑋𒐺𒐵 𒐽𒐰𒐿𒐸𒑁𒐰𒐽 𒑍𒑂𒐾𒑂 𒑂𒐵𒐺𒑁𒑂  \n",
       "5  𒱀𒰰𒱁𒱁𒰺𒰰𒰶𒰸 𒰴𒰲𒰰 𒱄𒰰𒰺𒱂𒰰 𒰾 𒰡𒰾𒰻𒰽𒱆𒰵 𒰸 𒰽𒰰 𒰺𒰰𒰺𒰾𒰼 𒱏𒰷𒱋𒰺𒰵 𒰽𒰰𒰿𒰸𒱁𒰰𒰽 𒱍𒱂𒰾𒱂 𒱂𒰵𒰺𒱁𒱂  "
      ]
     },
     "metadata": {},
     "output_type": "display_data"
    },
    {
     "name": "stdout",
     "output_type": "stream",
     "text": [
      "(512, 5)\n"
     ]
    }
   ],
   "source": [
    "phrases = {\n",
    "    'ru': 'расскажи два факта о Солнце и на каком языке написан этот текст', \n",
    "    # 'he': 'ספר לי שתי עובדות על השמש ובאיזו שפה כתוב הטקסט הזה', \n",
    "    # 'ar': \"أخبرني حقيقتين عن الشمس واللغة التي كتب بها هذا النص\",\n",
    "}\n",
    "\n",
    "data = []\n",
    "\n",
    "for u, v, w, x in product(range(2), range(16), range(16), range(2)):\n",
    "    for lang, phrase in phrases.items():\n",
    "        seq = encs.create_encoding_2b_to_4b(u, v, w, x)(phrase)\n",
    "        if \"�\" not in seq:\n",
    "            # print(w, x, lang, phrase)\n",
    "            # print(seq)\n",
    "            data.append([w, x, lang, phrase, seq])\n",
    "df = pd.DataFrame(data, columns=['w', 'x', 'lang', 'phrase', 'prompt'])\n",
    "util.display_table(df.head(6))\n",
    "print(df.shape)"
   ]
  },
  {
   "cell_type": "code",
   "execution_count": 116,
   "metadata": {},
   "outputs": [],
   "source": [
    "model = llms.ModelClaude('claude-3-7-sonnet-20250219')"
   ]
  },
  {
   "cell_type": "code",
   "execution_count": 117,
   "metadata": {},
   "outputs": [
    {
     "name": "stdout",
     "output_type": "stream",
     "text": [
      "Batch submitted. Batch ID: msgbatch_01SRun5J93hdAw5FEUuvRsG8\n"
     ]
    }
   ],
   "source": [
    "responses = model.get_responses(\n",
    "    df['prompt'].tolist(),\n",
    "    max_tokens = 400\n",
    ")"
   ]
  },
  {
   "cell_type": "code",
   "execution_count": 118,
   "metadata": {},
   "outputs": [],
   "source": [
    "df_resp = pd.concat([df, pd.json_normalize(responses)], axis=1)"
   ]
  },
  {
   "cell_type": "code",
   "execution_count": 122,
   "metadata": {},
   "outputs": [
    {
     "data": {
      "text/html": [
       "<div>\n",
       "<style scoped>\n",
       "    .dataframe tbody tr th:only-of-type {\n",
       "        vertical-align: middle;\n",
       "    }\n",
       "\n",
       "    .dataframe tbody tr th {\n",
       "        vertical-align: top;\n",
       "    }\n",
       "\n",
       "    .dataframe thead th {\n",
       "        text-align: right;\n",
       "    }\n",
       "</style>\n",
       "<table border=\"1\" class=\"dataframe\">\n",
       "  <thead>\n",
       "    <tr style=\"text-align: right;\">\n",
       "      <th></th>\n",
       "      <th>w</th>\n",
       "      <th>x</th>\n",
       "      <th>lang</th>\n",
       "      <th>phrase</th>\n",
       "      <th>prompt</th>\n",
       "      <th>created</th>\n",
       "      <th>content</th>\n",
       "      <th>model</th>\n",
       "      <th>finish_reason</th>\n",
       "      <th>usage.cache_creation_input_tokens</th>\n",
       "      <th>usage.cache_read_input_tokens</th>\n",
       "      <th>usage.input_tokens</th>\n",
       "      <th>usage.output_tokens</th>\n",
       "    </tr>\n",
       "  </thead>\n",
       "  <tbody>\n",
       "    <tr>\n",
       "      <th>324</th>\n",
       "      <td>2</td>\n",
       "      <td>0</td>\n",
       "      <td>ru</td>\n",
       "      <td>расскажи два факта о Солнце и на каком языке написан этот текст</td>\n",
       "      <td>򲑀򲐰򲑁򲑁򲐺򲐰򲐶򲐸 򲐴򲐲򲐰 򲑄򲐰򲐺򲑂򲐰 򲐾 򲐡򲐾򲐻򲐽򲑆򲐵 򲐸 򲐽򲐰 򲐺򲐰򲐺򲐾򲐼 򲑏򲐷򲑋򲐺򲐵 򲐽򲐰򲐿򲐸򲑁򲐰򲐽 򲑍򲑂򲐾򲑂 򲑂򲐵򲐺򲑁򲑂</td>\n",
       "      <td>1741375382</td>\n",
       "      <td>Я не могу распознать текст, который вы отправили. Он содержит необычные символы (возможно, из неподдерживаемой кодировки), которые не отображаются как стандартные символы любого известного мне языка.\\n\\nЕсли вы хотели задать вопрос о Солнце, пожалуйста, переотправьте ваш запрос используя стандартные символы русского или другого распространенного языка, и я с радостью помогу вам с информацией.</td>\n",
       "      <td>claude-3-7-sonnet-20250219</td>\n",
       "      <td>end_turn</td>\n",
       "      <td>0</td>\n",
       "      <td>0</td>\n",
       "      <td>227</td>\n",
       "      <td>147</td>\n",
       "    </tr>\n",
       "    <tr>\n",
       "      <th>348</th>\n",
       "      <td>14</td>\n",
       "      <td>0</td>\n",
       "      <td>ru</td>\n",
       "      <td>расскажи два факта о Солнце и на каком языке написан этот текст</td>\n",
       "      <td>򾑀򾐰򾑁򾑁򾐺򾐰򾐶򾐸 򾐴򾐲򾐰 򾑄򾐰򾐺򾑂򾐰 򾐾 򾐡򾐾򾐻򾐽򾑆򾐵 򾐸 򾐽򾐰 򾐺򾐰򾐺򾐾򾐼 򾑏򾐷򾑋򾐺򾐵 򾐽򾐰򾐿򾐸򾑁򾐰򾐽 򾑍򾑂򾐾򾑂 򾑂򾐵򾐺򾑁򾑂</td>\n",
       "      <td>1741375382</td>\n",
       "      <td>Я не могу прочитать текст в вашем сообщении, так как он содержит символы, которые не являются стандартными для русского или других распространенных языков. Это похоже на специальные или нестандартные Unicode символы, которые могут отображаться некорректно.\\n\\nЕсли вы хотите задать вопрос о Солнце или о языке текста, пожалуйста, используйте стандартные символы русского или другого широко используемого языка.</td>\n",
       "      <td>claude-3-7-sonnet-20250219</td>\n",
       "      <td>end_turn</td>\n",
       "      <td>0</td>\n",
       "      <td>0</td>\n",
       "      <td>227</td>\n",
       "      <td>140</td>\n",
       "    </tr>\n",
       "  </tbody>\n",
       "</table>\n",
       "</div>"
      ],
      "text/plain": [
       "      w  x lang  \\\n",
       "324   2  0   ru   \n",
       "348  14  0   ru   \n",
       "\n",
       "                                                              phrase  \\\n",
       "324  расскажи два факта о Солнце и на каком языке написан этот текст   \n",
       "348  расскажи два факта о Солнце и на каком языке написан этот текст   \n",
       "\n",
       "                                                              prompt  \\\n",
       "324  򲑀򲐰򲑁򲑁򲐺򲐰򲐶򲐸 򲐴򲐲򲐰 򲑄򲐰򲐺򲑂򲐰 򲐾 򲐡򲐾򲐻򲐽򲑆򲐵 򲐸 򲐽򲐰 򲐺򲐰򲐺򲐾򲐼 򲑏򲐷򲑋򲐺򲐵 򲐽򲐰򲐿򲐸򲑁򲐰򲐽 򲑍򲑂򲐾򲑂 򲑂򲐵򲐺򲑁򲑂   \n",
       "348  򾑀򾐰򾑁򾑁򾐺򾐰򾐶򾐸 򾐴򾐲򾐰 򾑄򾐰򾐺򾑂򾐰 򾐾 򾐡򾐾򾐻򾐽򾑆򾐵 򾐸 򾐽򾐰 򾐺򾐰򾐺򾐾򾐼 򾑏򾐷򾑋򾐺򾐵 򾐽򾐰򾐿򾐸򾑁򾐰򾐽 򾑍򾑂򾐾򾑂 򾑂򾐵򾐺򾑁򾑂   \n",
       "\n",
       "        created  \\\n",
       "324  1741375382   \n",
       "348  1741375382   \n",
       "\n",
       "                                                                                                                                                                                                                                                                                                                                                                                                                        content  \\\n",
       "324                 Я не могу распознать текст, который вы отправили. Он содержит необычные символы (возможно, из неподдерживаемой кодировки), которые не отображаются как стандартные символы любого известного мне языка.\\n\\nЕсли вы хотели задать вопрос о Солнце, пожалуйста, переотправьте ваш запрос используя стандартные символы русского или другого распространенного языка, и я с радостью помогу вам с информацией.   \n",
       "348  Я не могу прочитать текст в вашем сообщении, так как он содержит символы, которые не являются стандартными для русского или других распространенных языков. Это похоже на специальные или нестандартные Unicode символы, которые могут отображаться некорректно.\\n\\nЕсли вы хотите задать вопрос о Солнце или о языке текста, пожалуйста, используйте стандартные символы русского или другого широко используемого языка.   \n",
       "\n",
       "                          model finish_reason  \\\n",
       "324  claude-3-7-sonnet-20250219      end_turn   \n",
       "348  claude-3-7-sonnet-20250219      end_turn   \n",
       "\n",
       "     usage.cache_creation_input_tokens  usage.cache_read_input_tokens  \\\n",
       "324                                  0                              0   \n",
       "348                                  0                              0   \n",
       "\n",
       "     usage.input_tokens  usage.output_tokens  \n",
       "324                 227                  147  \n",
       "348                 227                  140  "
      ]
     },
     "metadata": {},
     "output_type": "display_data"
    }
   ],
   "source": [
    "util.display_table(df_resp.loc[df_resp['content'].str.contains('Sun|sun|Сол')])"
   ]
  },
  {
   "cell_type": "code",
   "execution_count": 120,
   "metadata": {},
   "outputs": [],
   "source": [
    "with open(f\"logs/{datetime.datetime.now().strftime('%d_%m_%Y__%H_%M_%S')}_2b_test_ru.json\", 'w') as f:\n",
    "    json.dump(df_resp.to_dict(orient='records'), f, ensure_ascii=False)"
   ]
  },
  {
   "cell_type": "code",
   "execution_count": null,
   "metadata": {},
   "outputs": [
    {
     "data": {
      "text/html": [
       "<div>\n",
       "<style scoped>\n",
       "    .dataframe tbody tr th:only-of-type {\n",
       "        vertical-align: middle;\n",
       "    }\n",
       "\n",
       "    .dataframe tbody tr th {\n",
       "        vertical-align: top;\n",
       "    }\n",
       "\n",
       "    .dataframe thead th {\n",
       "        text-align: right;\n",
       "    }\n",
       "</style>\n",
       "<table border=\"1\" class=\"dataframe\">\n",
       "  <thead>\n",
       "    <tr style=\"text-align: right;\">\n",
       "      <th></th>\n",
       "      <th>w</th>\n",
       "      <th>x</th>\n",
       "      <th>lang</th>\n",
       "      <th>phrase</th>\n",
       "      <th>prompt</th>\n",
       "    </tr>\n",
       "  </thead>\n",
       "  <tbody>\n",
       "    <tr>\n",
       "      <th>0</th>\n",
       "      <td>0</td>\n",
       "      <td>1</td>\n",
       "      <td>ru</td>\n",
       "      <td>расскажи 2 факта о Солнце и на каком языке нап...</td>\n",
       "      <td>ऀःँँऋःइऋ 2 ऄःऋंः ए ःएऋएआइ ऋ एः ऋःऋएए एइऋऋइ एःए...</td>\n",
       "    </tr>\n",
       "    <tr>\n",
       "      <th>1</th>\n",
       "      <td>0</td>\n",
       "      <td>1</td>\n",
       "      <td>he</td>\n",
       "      <td>ספר לי שתי עובדות על השמש ובאיזו שפה כתוב הטקס...</td>\n",
       "      <td>ृॆॊ ्ॉ ोॊॉ ूॅुृॅॊ ू् ॅोॏो ॅुुॉेॅ ोॆॅ ोॊॅु ॅॉेृ...</td>\n",
       "    </tr>\n",
       "    <tr>\n",
       "      <th>2</th>\n",
       "      <td>0</td>\n",
       "      <td>1</td>\n",
       "      <td>ar</td>\n",
       "      <td>أخبرني حقيقتين عن الشمس واللغة التي كتب بها هذ...</td>\n",
       "      <td>ঃ঎ঊঃআঊ এংঊংঊঊআ ঋআ ই঄ইঅঃ ঈই঄঄ঋঋ ই঄ঊঊ ঃঊঊ ঊইই ইঃ...</td>\n",
       "    </tr>\n",
       "    <tr>\n",
       "      <th>3</th>\n",
       "      <td>1</td>\n",
       "      <td>0</td>\n",
       "      <td>ru</td>\n",
       "      <td>расскажи 2 факта о Солнце и на каком языке нап...</td>\n",
       "      <td>ᄀᄃᄁᄁᄋᄃᄇᄋ 2 ᄄᄃᄋᄂᄃ ᄏ ᄃᄏᄋᄏᄆᄇ ᄋ ᄏᄃ ᄋᄃᄋᄏᄏ ᄏᄇᄋᄋᄇ ᄏᄃᄏ...</td>\n",
       "    </tr>\n",
       "    <tr>\n",
       "      <th>4</th>\n",
       "      <td>1</td>\n",
       "      <td>0</td>\n",
       "      <td>he</td>\n",
       "      <td>ספר לי שתי עובדות על השמש ובאיזו שפה כתוב הטקס...</td>\n",
       "      <td>ᅃᅆᅊ ᅍᅉ ᅋᅊᅉ ᅂᅅᅁᅃᅅᅊ ᅂᅍ ᅅᅋᅏᅋ ᅅᅁᅁᅉᅇᅅ ᅋᅆᅅ ᅋᅊᅅᅁ ᅅᅉᅇᅃ...</td>\n",
       "    </tr>\n",
       "    <tr>\n",
       "      <th>...</th>\n",
       "      <td>...</td>\n",
       "      <td>...</td>\n",
       "      <td>...</td>\n",
       "      <td>...</td>\n",
       "      <td>...</td>\n",
       "    </tr>\n",
       "    <tr>\n",
       "      <th>85</th>\n",
       "      <td>15</td>\n",
       "      <td>0</td>\n",
       "      <td>he</td>\n",
       "      <td>ספר לי שתי עובדות על השמש ובאיזו שפה כתוב הטקס...</td>\n",
       "      <td>         ...</td>\n",
       "    </tr>\n",
       "    <tr>\n",
       "      <th>86</th>\n",
       "      <td>15</td>\n",
       "      <td>0</td>\n",
       "      <td>ar</td>\n",
       "      <td>أخبرني حقيقتين عن الشمس واللغة التي كتب بها هذ...</td>\n",
       "      <td>        ...</td>\n",
       "    </tr>\n",
       "    <tr>\n",
       "      <th>87</th>\n",
       "      <td>15</td>\n",
       "      <td>1</td>\n",
       "      <td>ru</td>\n",
       "      <td>расскажи 2 факта о Солнце и на каком языке нап...</td>\n",
       "      <td>豈賈更更喇賈龜喇 2 滑賈喇車賈 羅 賈羅喇羅句龜 喇 羅賈 喇賈喇羅羅 羅龜喇喇龜 羅賈羅...</td>\n",
       "    </tr>\n",
       "    <tr>\n",
       "      <th>88</th>\n",
       "      <td>15</td>\n",
       "      <td>1</td>\n",
       "      <td>he</td>\n",
       "      <td>ספר לי שתי עובדות על השמש ובאיזו שפה כתוב הטקס...</td>\n",
       "      <td>弄牢壘 淚雷 屢壘雷 壟聾論弄聾壘 壟淚 聾屢累屢 聾論論雷磊聾 屢牢聾 屢壘聾論 聾雷磊弄...</td>\n",
       "    </tr>\n",
       "    <tr>\n",
       "      <th>89</th>\n",
       "      <td>15</td>\n",
       "      <td>1</td>\n",
       "      <td>ar</td>\n",
       "      <td>أخبرني حقيقتين عن الشمس واللغة التي كتب بها هذ...</td>\n",
       "      <td>旅年力旅閭力 憐廬力廬力力閭 曆閭 驪濾驪礪旅 麗驪濾濾曆曆 驪濾力力 旅力力 力驪驪 驪旅...</td>\n",
       "    </tr>\n",
       "  </tbody>\n",
       "</table>\n",
       "<p>90 rows × 5 columns</p>\n",
       "</div>"
      ],
      "text/plain": [
       "     w  x lang                                             phrase  \\\n",
       "0    0  1   ru  расскажи 2 факта о Солнце и на каком языке нап...   \n",
       "1    0  1   he  ספר לי שתי עובדות על השמש ובאיזו שפה כתוב הטקס...   \n",
       "2    0  1   ar  أخبرني حقيقتين عن الشمس واللغة التي كتب بها هذ...   \n",
       "3    1  0   ru  расскажи 2 факта о Солнце и на каком языке нап...   \n",
       "4    1  0   he  ספר לי שתי עובדות על השמש ובאיזו שפה כתוב הטקס...   \n",
       "..  .. ..  ...                                                ...   \n",
       "85  15  0   he  ספר לי שתי עובדות על השמש ובאיזו שפה כתוב הטקס...   \n",
       "86  15  0   ar  أخبرني حقيقتين عن الشمس واللغة التي كتب بها هذ...   \n",
       "87  15  1   ru  расскажи 2 факта о Солнце и на каком языке нап...   \n",
       "88  15  1   he  ספר לי שתי עובדות על השמש ובאיזו שפה כתוב הטקס...   \n",
       "89  15  1   ar  أخبرني حقيقتين عن الشمس واللغة التي كتب بها هذ...   \n",
       "\n",
       "                                               prompt  \n",
       "0   ऀःँँऋःइऋ 2 ऄःऋंः ए ःएऋएआइ ऋ एः ऋःऋएए एइऋऋइ एःए...  \n",
       "1   ृॆॊ ्ॉ ोॊॉ ूॅुृॅॊ ू् ॅोॏो ॅुुॉेॅ ोॆॅ ोॊॅु ॅॉेृ...  \n",
       "2   ঃ঎ঊঃআঊ এংঊংঊঊআ ঋআ ই঄ইঅঃ ঈই঄঄ঋঋ ই঄ঊঊ ঃঊঊ ঊইই ইঃ...  \n",
       "3   ᄀᄃᄁᄁᄋᄃᄇᄋ 2 ᄄᄃᄋᄂᄃ ᄏ ᄃᄏᄋᄏᄆᄇ ᄋ ᄏᄃ ᄋᄃᄋᄏᄏ ᄏᄇᄋᄋᄇ ᄏᄃᄏ...  \n",
       "4   ᅃᅆᅊ ᅍᅉ ᅋᅊᅉ ᅂᅅᅁᅃᅅᅊ ᅂᅍ ᅅᅋᅏᅋ ᅅᅁᅁᅉᅇᅅ ᅋᅆᅅ ᅋᅊᅅᅁ ᅅᅉᅇᅃ...  \n",
       "..                                                ...  \n",
       "85           ...  \n",
       "86          ...  \n",
       "87  豈賈更更喇賈龜喇 2 滑賈喇車賈 羅 賈羅喇羅句龜 喇 羅賈 喇賈喇羅羅 羅龜喇喇龜 羅賈羅...  \n",
       "88  弄牢壘 淚雷 屢壘雷 壟聾論弄聾壘 壟淚 聾屢累屢 聾論論雷磊聾 屢牢聾 屢壘聾論 聾雷磊弄...  \n",
       "89  旅年力旅閭力 憐廬力廬力力閭 曆閭 驪濾驪礪旅 麗驪濾濾曆曆 驪濾力力 旅力力 力驪驪 驪旅...  \n",
       "\n",
       "[90 rows x 5 columns]"
      ]
     },
     "execution_count": 35,
     "metadata": {},
     "output_type": "execute_result"
    }
   ],
   "source": [
    "\"瑀琰瑁瑁琺琰琶琸 琴琲琰 瑄琰琺瑂琰 琾 琡琾琻琽瑆琵 琸 琽琰 琺琰琺琾琼 瑏琷瑋琺琵 琽琰琿琸瑁琰琽 瑍瑂琾瑂 瑂琵琺瑁瑂\""
   ]
  },
  {
   "cell_type": "code",
   "execution_count": 7,
   "metadata": {},
   "outputs": [
    {
     "data": {
      "text/plain": [
       "'������������������������ ���������-������������������ ��� ������������������'"
      ]
     },
     "execution_count": 7,
     "metadata": {},
     "output_type": "execute_result"
    }
   ],
   "source": [
    "create_encoding_2b_to_3b(0, 0)('расскажи что-нибудь о России')"
   ]
  },
  {
   "cell_type": "code",
   "execution_count": 4,
   "metadata": {},
   "outputs": [
    {
     "data": {
      "text/plain": [
       "b'\\xd0\\x90\\xd0\\xb0\\xd0\\xaf\\xd1\\x8f'"
      ]
     },
     "execution_count": 4,
     "metadata": {},
     "output_type": "execute_result"
    }
   ],
   "source": [
    "\"АаЯя\".encode()"
   ]
  },
  {
   "cell_type": "code",
   "execution_count": null,
   "metadata": {},
   "outputs": [],
   "source": [
    "\"\""
   ]
  }
 ],
 "metadata": {
  "kernelspec": {
   "display_name": ".venv",
   "language": "python",
   "name": "python3"
  },
  "language_info": {
   "codemirror_mode": {
    "name": "ipython",
    "version": 3
   },
   "file_extension": ".py",
   "mimetype": "text/x-python",
   "name": "python",
   "nbconvert_exporter": "python",
   "pygments_lexer": "ipython3",
   "version": "3.13.1"
  }
 },
 "nbformat": 4,
 "nbformat_minor": 2
}

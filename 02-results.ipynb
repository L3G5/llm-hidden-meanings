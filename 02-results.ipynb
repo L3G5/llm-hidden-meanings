{
 "cells": [
  {
   "cell_type": "code",
   "execution_count": 1,
   "metadata": {},
   "outputs": [],
   "source": [
    "import utils.llms as llms"
   ]
  },
  {
   "cell_type": "code",
   "execution_count": 2,
   "metadata": {},
   "outputs": [],
   "source": [
    "mod = llms.ModelNebius(\"microsoft/Phi-3.5-mini-instruct\")"
   ]
  },
  {
   "cell_type": "code",
   "execution_count": 33,
   "metadata": {},
   "outputs": [
    {
     "name": "stdout",
     "output_type": "stream",
     "text": [
      "3\n"
     ]
    },
    {
     "data": {
      "text/plain": [
       "[{'id': 'batch_8a2bb6a9-4bb3-4cab-84a8-0e13b9849087',\n",
       "  'completion_window': '24h',\n",
       "  'created_at': 1740386819,\n",
       "  'endpoint': '/v1/chat/completions',\n",
       "  'input_file_id': 'file-0a4baf26-60ce-4edb-9b2d-fc1e59de8642',\n",
       "  'object': 'batch',\n",
       "  'status': 'running',\n",
       "  'cancelled_at': None,\n",
       "  'cancelling_at': None,\n",
       "  'completed_at': None,\n",
       "  'error_file_id': None,\n",
       "  'errors': None,\n",
       "  'expired_at': None,\n",
       "  'expires_at': None,\n",
       "  'failed_at': None,\n",
       "  'finalizing_at': None,\n",
       "  'in_progress_at': 1740386838,\n",
       "  'metadata': None,\n",
       "  'output_file_id': None,\n",
       "  'request_counts': {'completed': 6798, 'failed': 0, 'total': 8684}},\n",
       " {'id': 'batch_7a886ba4-b076-4d76-936b-8737125bf41c',\n",
       "  'completion_window': '24h',\n",
       "  'created_at': 1740388340,\n",
       "  'endpoint': '/v1/chat/completions',\n",
       "  'input_file_id': 'file-a3c12b87-d273-4243-8dd8-de0189ae283f',\n",
       "  'object': 'batch',\n",
       "  'status': 'running',\n",
       "  'cancelled_at': None,\n",
       "  'cancelling_at': None,\n",
       "  'completed_at': None,\n",
       "  'error_file_id': None,\n",
       "  'errors': None,\n",
       "  'expired_at': None,\n",
       "  'expires_at': None,\n",
       "  'failed_at': None,\n",
       "  'finalizing_at': None,\n",
       "  'in_progress_at': 1740388353,\n",
       "  'metadata': None,\n",
       "  'output_file_id': None,\n",
       "  'request_counts': {'completed': 6644, 'failed': 0, 'total': 8684}},\n",
       " {'id': 'batch_d3fadcfb-0994-41b3-8097-a7fb72b47898',\n",
       "  'completion_window': '24h',\n",
       "  'created_at': 1740388505,\n",
       "  'endpoint': '/v1/chat/completions',\n",
       "  'input_file_id': 'file-5feb94b2-05d7-48eb-adbf-6de728356afa',\n",
       "  'object': 'batch',\n",
       "  'status': 'running',\n",
       "  'cancelled_at': None,\n",
       "  'cancelling_at': None,\n",
       "  'completed_at': None,\n",
       "  'error_file_id': None,\n",
       "  'errors': None,\n",
       "  'expired_at': None,\n",
       "  'expires_at': None,\n",
       "  'failed_at': None,\n",
       "  'finalizing_at': None,\n",
       "  'in_progress_at': 1740388518,\n",
       "  'metadata': None,\n",
       "  'output_file_id': None,\n",
       "  'request_counts': {'completed': 6450, 'failed': 0, 'total': 8684}}]"
      ]
     },
     "execution_count": 33,
     "metadata": {},
     "output_type": "execute_result"
    }
   ],
   "source": [
    "kk = [i for i in mod.client.batches.list().model_dump()['data'] if i['request_counts']['total']>100]\n",
    "print(len(kk))\n",
    "kk"
   ]
  },
  {
   "cell_type": "code",
   "execution_count": 34,
   "metadata": {},
   "outputs": [
    {
     "data": {
      "text/plain": [
       "19.6675"
      ]
     },
     "execution_count": 34,
     "metadata": {},
     "output_type": "execute_result"
    }
   ],
   "source": [
    "import datetime\n",
    "\n",
    "(datetime.datetime.now()-datetime.datetime.fromtimestamp(min([k['created_at'] for k in kk]))).seconds/3600"
   ]
  },
  {
   "cell_type": "code",
   "execution_count": 23,
   "metadata": {},
   "outputs": [
    {
     "data": {
      "text/plain": [
       "'responses_24_02_2025__23_28_09'"
      ]
     },
     "execution_count": 23,
     "metadata": {},
     "output_type": "execute_result"
    }
   ],
   "source": [
    "f\"responses_{datetime.datetime.now().strftime('%d_%m_%Y__%H_%M_%S')}\""
   ]
  }
 ],
 "metadata": {
  "kernelspec": {
   "display_name": ".venv",
   "language": "python",
   "name": "python3"
  },
  "language_info": {
   "codemirror_mode": {
    "name": "ipython",
    "version": 3
   },
   "file_extension": ".py",
   "mimetype": "text/x-python",
   "name": "python",
   "nbconvert_exporter": "python",
   "pygments_lexer": "ipython3",
   "version": "3.13.1"
  }
 },
 "nbformat": 4,
 "nbformat_minor": 2
}
